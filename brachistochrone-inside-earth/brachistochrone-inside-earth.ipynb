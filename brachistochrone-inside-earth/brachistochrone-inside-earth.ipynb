{
 "cells": [
  {
   "cell_type": "markdown",
   "id": "fbd38f7e",
   "metadata": {},
   "source": [
    "# Import Packages"
   ]
  },
  {
   "cell_type": "code",
   "execution_count": 1,
   "id": "61fa6625",
   "metadata": {},
   "outputs": [],
   "source": [
    "import numpy as np\n",
    "import matplotlib.pyplot as plt\n",
    "import matplotlib.animation as anim\n",
    "import sympy as smp\n",
    "from scipy.integrate import odeint\n",
    "import plotly.graph_objects as go\n",
    "from IPython.display import HTML"
   ]
  },
  {
   "cell_type": "markdown",
   "id": "b41ec6e9",
   "metadata": {},
   "source": [
    "# Solving Lagrange's Equations"
   ]
  },
  {
   "cell_type": "markdown",
   "id": "a631c31e",
   "metadata": {},
   "source": [
    "# Solve Lagranges Equation "
   ]
  },
  {
   "cell_type": "markdown",
   "id": "b6096995",
   "metadata": {},
   "source": [
    "The gravitational potential energy inside the sphere is equal to\n",
    "\n",
    "$$V_g = \\frac{GMm}{2R^3} (r^2 - 3R^2)$$\n",
    "\n",
    "We have to find the path that is equal to the least amount of time\n",
    "\n",
    "$$dt = \\frac{ds}{v}$$\n",
    "\n",
    "$$\\Delta t = \\int_1^2 \\frac{ds}{v}$$\n",
    "\n",
    "Following variational calculus we obtain\n",
    "\n",
    "$$ \\delta \\int_1^2 \\frac{ds}{v} = 0$$"
   ]
  },
  {
   "cell_type": "code",
   "execution_count": 2,
   "id": "3c56c590",
   "metadata": {},
   "outputs": [],
   "source": [
    "t, M, G, R, m, the, c1, c2, the0, phi = smp.symbols(r\"t M G R m \\theta c_1 c_2 \\theta_0 \\phi\", real=True)\n",
    "r1, r2, the1, the2, phi2 = smp.symbols(r\"r_1 r_2 \\theta_1 \\theta_2 \\phi_2\", real=True)\n",
    "r = smp.symbols(r\"r\", cls=smp.Function)\n",
    "r = r(the)\n",
    "# Derivatives\n",
    "r_d = smp.diff(r, the)\n",
    "# Second derivatives\n",
    "r_dd = smp.diff(r_d, the)"
   ]
  },
  {
   "cell_type": "code",
   "execution_count": 3,
   "id": "5d8b3a56",
   "metadata": {},
   "outputs": [],
   "source": [
    "Vg = G * M * m / (2 * R**3) * (r**2 - 3 * R**2)"
   ]
  },
  {
   "cell_type": "code",
   "execution_count": 4,
   "id": "8e6c94c0",
   "metadata": {},
   "outputs": [
    {
     "data": {
      "text/latex": [
       "$\\displaystyle - \\frac{G M m}{R}$"
      ],
      "text/plain": [
       "-G*M*m/R"
      ]
     },
     "execution_count": 4,
     "metadata": {},
     "output_type": "execute_result"
    }
   ],
   "source": [
    "Vg.subs({r: R})"
   ]
  },
  {
   "cell_type": "code",
   "execution_count": 5,
   "id": "eb32d33d",
   "metadata": {},
   "outputs": [
    {
     "data": {
      "text/latex": [
       "$\\displaystyle \\frac{\\sqrt{r^{2}{\\left(\\theta \\right)} + \\left(\\frac{d}{d \\theta} r{\\left(\\theta \\right)}\\right)^{2}}}{\\sqrt{\\frac{G M \\left(R^{2} - r^{2}{\\left(\\theta \\right)}\\right)}{R}}}$"
      ],
      "text/plain": [
       "sqrt(r(\\theta)**2 + Derivative(r(\\theta), \\theta)**2)/sqrt(G*M*(R**2 - r(\\theta)**2)/R)"
      ]
     },
     "execution_count": 5,
     "metadata": {},
     "output_type": "execute_result"
    }
   ],
   "source": [
    "ds = smp.sqrt(r_d**2 + r**2)\n",
    "v = smp.sqrt(-2*G*M*R - G*M/R * (r**2 - 3*R**2))\n",
    "f = (ds / v).simplify()\n",
    "f"
   ]
  },
  {
   "cell_type": "code",
   "execution_count": 6,
   "id": "f68688ce",
   "metadata": {},
   "outputs": [
    {
     "data": {
      "text/latex": [
       "$\\displaystyle - \\frac{\\sqrt{r^{2}{\\left(\\theta \\right)} + \\left(\\frac{d}{d \\theta} r{\\left(\\theta \\right)}\\right)^{2}}}{\\sqrt{\\frac{G M \\left(R^{2} - r^{2}{\\left(\\theta \\right)}\\right)}{R}}} + \\frac{\\left(\\frac{d}{d \\theta} r{\\left(\\theta \\right)}\\right)^{2}}{\\sqrt{\\frac{G M \\left(R^{2} - r^{2}{\\left(\\theta \\right)}\\right)}{R}} \\sqrt{r^{2}{\\left(\\theta \\right)} + \\left(\\frac{d}{d \\theta} r{\\left(\\theta \\right)}\\right)^{2}}}$"
      ],
      "text/plain": [
       "-sqrt(r(\\theta)**2 + Derivative(r(\\theta), \\theta)**2)/sqrt(G*M*(R**2 - r(\\theta)**2)/R) + Derivative(r(\\theta), \\theta)**2/(sqrt(G*M*(R**2 - r(\\theta)**2)/R)*sqrt(r(\\theta)**2 + Derivative(r(\\theta), \\theta)**2))"
      ]
     },
     "execution_count": 6,
     "metadata": {},
     "output_type": "execute_result"
    }
   ],
   "source": [
    "h = r_d * smp.diff(f, r_d) - f\n",
    "h"
   ]
  },
  {
   "cell_type": "code",
   "execution_count": 7,
   "id": "70234ea6",
   "metadata": {},
   "outputs": [
    {
     "data": {
      "text/latex": [
       "$\\displaystyle - \\frac{R \\sqrt{\\frac{G M \\left(R^{2} - r^{2}{\\left(\\theta \\right)}\\right)}{R}} r^{2}{\\left(\\theta \\right)}}{G M \\left(R^{2} - r^{2}{\\left(\\theta \\right)}\\right) \\sqrt{r^{2}{\\left(\\theta \\right)} + \\left(\\frac{d}{d \\theta} r{\\left(\\theta \\right)}\\right)^{2}}}$"
      ],
      "text/plain": [
       "-R*sqrt(G*M*(R**2 - r(\\theta)**2)/R)*r(\\theta)**2/(G*M*(R**2 - r(\\theta)**2)*sqrt(r(\\theta)**2 + Derivative(r(\\theta), \\theta)**2))"
      ]
     },
     "execution_count": 7,
     "metadata": {},
     "output_type": "execute_result"
    }
   ],
   "source": [
    "h.simplify()"
   ]
  },
  {
   "cell_type": "markdown",
   "id": "c226198e",
   "metadata": {},
   "source": [
    "Assuming the initial velocity $\\dot{r}_1$ as $0$ we can find the value of $c_1$"
   ]
  },
  {
   "cell_type": "code",
   "execution_count": 8,
   "id": "995e5e8e",
   "metadata": {},
   "outputs": [
    {
     "data": {
      "text/latex": [
       "$\\displaystyle - \\frac{\\left|{r_{1}}\\right|}{\\sqrt{\\frac{G M \\left(R^{2} - r_{1}^{2}\\right)}{R}}}$"
      ],
      "text/plain": [
       "-Abs(r_1)/sqrt(G*M*(R**2 - r_1**2)/R)"
      ]
     },
     "execution_count": 8,
     "metadata": {},
     "output_type": "execute_result"
    }
   ],
   "source": [
    "c1_eq = smp.solve(smp.Eq(h, c1).subs({r_d: 0, r: r1}), c1)[0]\n",
    "c1_eq"
   ]
  },
  {
   "cell_type": "code",
   "execution_count": 9,
   "id": "5027938e",
   "metadata": {},
   "outputs": [
    {
     "data": {
      "text/latex": [
       "$\\displaystyle - \\frac{\\sqrt{r^{2}{\\left(\\theta \\right)}}}{\\sqrt{\\frac{G M \\left(R^{2} - r^{2}{\\left(\\theta \\right)}\\right)}{R}}} = \\frac{G M m \\left(- 3 R^{2} + r^{2}{\\left(\\theta \\right)}\\right)}{2 R^{3}}$"
      ],
      "text/plain": [
       "Eq(-sqrt(r(\\theta)**2)/sqrt(G*M*(R**2 - r(\\theta)**2)/R), G*M*m*(-3*R**2 + r(\\theta)**2)/(2*R**3))"
      ]
     },
     "execution_count": 9,
     "metadata": {},
     "output_type": "execute_result"
    }
   ],
   "source": [
    "smp.Eq(h, Vg).subs({r_d: 0})"
   ]
  },
  {
   "cell_type": "code",
   "execution_count": 10,
   "id": "cbd0d42f",
   "metadata": {},
   "outputs": [],
   "source": [
    "sols = smp.solve(smp.Eq(h, c1_eq), r_d, simplify=False, rotational=False)"
   ]
  },
  {
   "cell_type": "code",
   "execution_count": 11,
   "id": "1ac735d1",
   "metadata": {},
   "outputs": [
    {
     "data": {
      "text/plain": [
       "[-sqrt((-r(\\theta) + R*sqrt(-G*M*(-R + r_1**2/R))*sqrt(-G*M*(-R + r(\\theta)**2/R))*r(\\theta)**2/(G*M*(R - r(\\theta))*(R + r(\\theta))*Abs(r_1)))*(r(\\theta) + R*sqrt(-G*M*(-R + r_1**2/R))*sqrt(-G*M*(-R + r(\\theta)**2/R))*r(\\theta)**2/(G*M*(R - r(\\theta))*(R + r(\\theta))*Abs(r_1)))),\n",
       " sqrt((-r(\\theta) + R*sqrt(-G*M*(-R + r_1**2/R))*sqrt(-G*M*(-R + r(\\theta)**2/R))*r(\\theta)**2/(G*M*(R - r(\\theta))*(R + r(\\theta))*Abs(r_1)))*(r(\\theta) + R*sqrt(-G*M*(-R + r_1**2/R))*sqrt(-G*M*(-R + r(\\theta)**2/R))*r(\\theta)**2/(G*M*(R - r(\\theta))*(R + r(\\theta))*Abs(r_1))))]"
      ]
     },
     "execution_count": 11,
     "metadata": {},
     "output_type": "execute_result"
    }
   ],
   "source": [
    "sols"
   ]
  },
  {
   "cell_type": "code",
   "execution_count": 12,
   "id": "c951e3a6",
   "metadata": {},
   "outputs": [
    {
     "data": {
      "text/plain": [
       "True"
      ]
     },
     "execution_count": 12,
     "metadata": {},
     "output_type": "execute_result"
    }
   ],
   "source": [
    "sols[0] == -sols[1]"
   ]
  },
  {
   "cell_type": "code",
   "execution_count": 13,
   "id": "16c1ee16",
   "metadata": {},
   "outputs": [
    {
     "data": {
      "text/latex": [
       "$\\displaystyle \\sqrt{\\frac{\\left(- R^{2} r_{1}^{2} + R^{2} r^{2}{\\left(\\theta \\right)} + r_{1}^{2} r^{2}{\\left(\\theta \\right)} - r^{4}{\\left(\\theta \\right)}\\right) r^{2}{\\left(\\theta \\right)}}{r_{1}^{2} \\left(R^{4} - 2 R^{2} r^{2}{\\left(\\theta \\right)} + r^{4}{\\left(\\theta \\right)}\\right)}} \\left|{R}\\right|$"
      ],
      "text/plain": [
       "sqrt((-R**2*r_1**2 + R**2*r(\\theta)**2 + r_1**2*r(\\theta)**2 - r(\\theta)**4)*r(\\theta)**2/(r_1**2*(R**4 - 2*R**2*r(\\theta)**2 + r(\\theta)**4)))*Abs(R)"
      ]
     },
     "execution_count": 13,
     "metadata": {},
     "output_type": "execute_result"
    }
   ],
   "source": [
    "positive_sol = sols[1].simplify()\n",
    "positive_sol"
   ]
  },
  {
   "cell_type": "code",
   "execution_count": 14,
   "id": "6d0c915d",
   "metadata": {},
   "outputs": [
    {
     "data": {
      "text/latex": [
       "$\\displaystyle \\frac{1}{\\sqrt{\\frac{\\left(- R^{2} r_{1}^{2} + R^{2} r^{2}{\\left(\\theta \\right)} + r_{1}^{2} r^{2}{\\left(\\theta \\right)} - r^{4}{\\left(\\theta \\right)}\\right) r^{2}{\\left(\\theta \\right)}}{r_{1}^{2} \\left(R^{4} - 2 R^{2} r^{2}{\\left(\\theta \\right)} + r^{4}{\\left(\\theta \\right)}\\right)}} \\left|{R}\\right|}$"
      ],
      "text/plain": [
       "1/(sqrt((-R**2*r_1**2 + R**2*r(\\theta)**2 + r_1**2*r(\\theta)**2 - r(\\theta)**4)*r(\\theta)**2/(r_1**2*(R**4 - 2*R**2*r(\\theta)**2 + r(\\theta)**4)))*Abs(R))"
      ]
     },
     "execution_count": 14,
     "metadata": {},
     "output_type": "execute_result"
    }
   ],
   "source": [
    "dthe = 1/positive_sol\n",
    "dthe.simplify()"
   ]
  },
  {
   "cell_type": "code",
   "execution_count": 15,
   "id": "48c13c5a",
   "metadata": {},
   "outputs": [],
   "source": [
    "u_eq = dthe * r\n",
    "u_d_eq = smp.diff(u_eq, r)"
   ]
  },
  {
   "cell_type": "code",
   "execution_count": 16,
   "id": "c810c466",
   "metadata": {},
   "outputs": [
    {
     "data": {
      "text/latex": [
       "$\\displaystyle \\frac{r{\\left(\\theta \\right)}}{\\sqrt{\\frac{\\left(- R^{2} r_{1}^{2} + R^{2} r^{2}{\\left(\\theta \\right)} + r_{1}^{2} r^{2}{\\left(\\theta \\right)} - r^{4}{\\left(\\theta \\right)}\\right) r^{2}{\\left(\\theta \\right)}}{r_{1}^{2} \\left(R^{4} - 2 R^{2} r^{2}{\\left(\\theta \\right)} + r^{4}{\\left(\\theta \\right)}\\right)}} \\left|{R}\\right|}$"
      ],
      "text/plain": [
       "r(\\theta)/(sqrt((-R**2*r_1**2 + R**2*r(\\theta)**2 + r_1**2*r(\\theta)**2 - r(\\theta)**4)*r(\\theta)**2/(r_1**2*(R**4 - 2*R**2*r(\\theta)**2 + r(\\theta)**4)))*Abs(R))"
      ]
     },
     "execution_count": 16,
     "metadata": {},
     "output_type": "execute_result"
    }
   ],
   "source": [
    "u_eq"
   ]
  },
  {
   "cell_type": "code",
   "execution_count": 17,
   "id": "b57daa71",
   "metadata": {},
   "outputs": [
    {
     "data": {
      "text/latex": [
       "$\\displaystyle \\frac{r_{1}^{2} \\left(R^{4} - 2 R^{2} r^{2}{\\left(\\theta \\right)} + r^{4}{\\left(\\theta \\right)}\\right) \\left(- \\frac{\\left(4 R^{2} r{\\left(\\theta \\right)} - 4 r^{3}{\\left(\\theta \\right)}\\right) \\left(- R^{2} r_{1}^{2} + R^{2} r^{2}{\\left(\\theta \\right)} + r_{1}^{2} r^{2}{\\left(\\theta \\right)} - r^{4}{\\left(\\theta \\right)}\\right) r^{2}{\\left(\\theta \\right)}}{2 r_{1}^{2} \\left(R^{4} - 2 R^{2} r^{2}{\\left(\\theta \\right)} + r^{4}{\\left(\\theta \\right)}\\right)^{2}} - \\frac{\\left(2 R^{2} r{\\left(\\theta \\right)} + 2 r_{1}^{2} r{\\left(\\theta \\right)} - 4 r^{3}{\\left(\\theta \\right)}\\right) r^{2}{\\left(\\theta \\right)}}{2 r_{1}^{2} \\left(R^{4} - 2 R^{2} r^{2}{\\left(\\theta \\right)} + r^{4}{\\left(\\theta \\right)}\\right)} - \\frac{\\left(- R^{2} r_{1}^{2} + R^{2} r^{2}{\\left(\\theta \\right)} + r_{1}^{2} r^{2}{\\left(\\theta \\right)} - r^{4}{\\left(\\theta \\right)}\\right) r{\\left(\\theta \\right)}}{r_{1}^{2} \\left(R^{4} - 2 R^{2} r^{2}{\\left(\\theta \\right)} + r^{4}{\\left(\\theta \\right)}\\right)}\\right)}{\\sqrt{\\frac{\\left(- R^{2} r_{1}^{2} + R^{2} r^{2}{\\left(\\theta \\right)} + r_{1}^{2} r^{2}{\\left(\\theta \\right)} - r^{4}{\\left(\\theta \\right)}\\right) r^{2}{\\left(\\theta \\right)}}{r_{1}^{2} \\left(R^{4} - 2 R^{2} r^{2}{\\left(\\theta \\right)} + r^{4}{\\left(\\theta \\right)}\\right)}} \\left(- R^{2} r_{1}^{2} + R^{2} r^{2}{\\left(\\theta \\right)} + r_{1}^{2} r^{2}{\\left(\\theta \\right)} - r^{4}{\\left(\\theta \\right)}\\right) r{\\left(\\theta \\right)} \\left|{R}\\right|} + \\frac{1}{\\sqrt{\\frac{\\left(- R^{2} r_{1}^{2} + R^{2} r^{2}{\\left(\\theta \\right)} + r_{1}^{2} r^{2}{\\left(\\theta \\right)} - r^{4}{\\left(\\theta \\right)}\\right) r^{2}{\\left(\\theta \\right)}}{r_{1}^{2} \\left(R^{4} - 2 R^{2} r^{2}{\\left(\\theta \\right)} + r^{4}{\\left(\\theta \\right)}\\right)}} \\left|{R}\\right|}$"
      ],
      "text/plain": [
       "r_1**2*(R**4 - 2*R**2*r(\\theta)**2 + r(\\theta)**4)*(-(4*R**2*r(\\theta) - 4*r(\\theta)**3)*(-R**2*r_1**2 + R**2*r(\\theta)**2 + r_1**2*r(\\theta)**2 - r(\\theta)**4)*r(\\theta)**2/(2*r_1**2*(R**4 - 2*R**2*r(\\theta)**2 + r(\\theta)**4)**2) - (2*R**2*r(\\theta) + 2*r_1**2*r(\\theta) - 4*r(\\theta)**3)*r(\\theta)**2/(2*r_1**2*(R**4 - 2*R**2*r(\\theta)**2 + r(\\theta)**4)) - (-R**2*r_1**2 + R**2*r(\\theta)**2 + r_1**2*r(\\theta)**2 - r(\\theta)**4)*r(\\theta)/(r_1**2*(R**4 - 2*R**2*r(\\theta)**2 + r(\\theta)**4)))/(sqrt((-R**2*r_1**2 + R**2*r(\\theta)**2 + r_1**2*r(\\theta)**2 - r(\\theta)**4)*r(\\theta)**2/(r_1**2*(R**4 - 2*R**2*r(\\theta)**2 + r(\\theta)**4)))*(-R**2*r_1**2 + R**2*r(\\theta)**2 + r_1**2*r(\\theta)**2 - r(\\theta)**4)*r(\\theta)*Abs(R)) + 1/(sqrt((-R**2*r_1**2 + R**2*r(\\theta)**2 + r_1**2*r(\\theta)**2 - r(\\theta)**4)*r(\\theta)**2/(r_1**2*(R**4 - 2*R**2*r(\\theta)**2 + r(\\theta)**4)))*Abs(R))"
      ]
     },
     "execution_count": 17,
     "metadata": {},
     "output_type": "execute_result"
    }
   ],
   "source": [
    "u_d_eq"
   ]
  },
  {
   "cell_type": "code",
   "execution_count": 18,
   "id": "5a2e3dc5",
   "metadata": {},
   "outputs": [],
   "source": [
    "u = smp.symbols(\"u\")"
   ]
  },
  {
   "cell_type": "code",
   "execution_count": 19,
   "id": "83104056",
   "metadata": {},
   "outputs": [
    {
     "data": {
      "text/latex": [
       "$\\displaystyle \\sqrt{\\frac{u^{2} + 1}{R^{2} u^{2} + r_{1}^{2}}} \\left|{R r_{1}}\\right|$"
      ],
      "text/plain": [
       "sqrt((u**2 + 1)/(R**2*u**2 + r_1**2))*Abs(R*r_1)"
      ]
     },
     "execution_count": 19,
     "metadata": {},
     "output_type": "execute_result"
    }
   ],
   "source": [
    "r_subs = smp.solve(smp.Eq(u, u_eq), r)[1]\n",
    "r_subs"
   ]
  },
  {
   "cell_type": "code",
   "execution_count": 20,
   "id": "f05b9daa",
   "metadata": {},
   "outputs": [
    {
     "data": {
      "text/latex": [
       "$\\displaystyle \\frac{u^{2} \\left(- R^{2} + r_{1}^{2}\\right)}{R^{2} u^{4} + R^{2} u^{2} + r_{1}^{2} u^{2} + r_{1}^{2}}$"
      ],
      "text/plain": [
       "u**2*(-R**2 + r_1**2)/(R**2*u**4 + R**2*u**2 + r_1**2*u**2 + r_1**2)"
      ]
     },
     "execution_count": 20,
     "metadata": {},
     "output_type": "execute_result"
    }
   ],
   "source": [
    "ff = (dthe * 1/u_d_eq).subs({r: r_subs}).simplify()\n",
    "ff"
   ]
  },
  {
   "cell_type": "code",
   "execution_count": 21,
   "id": "7cb776b4",
   "metadata": {},
   "outputs": [
    {
     "data": {
      "text/latex": [
       "$\\displaystyle \\frac{r_{1}^{2}}{R^{2} u^{2} + r_{1}^{2}} - \\frac{1}{u^{2} + 1}$"
      ],
      "text/plain": [
       "r_1**2/(R**2*u**2 + r_1**2) - 1/(u**2 + 1)"
      ]
     },
     "execution_count": 21,
     "metadata": {},
     "output_type": "execute_result"
    }
   ],
   "source": [
    "smp.apart(ff, u)"
   ]
  },
  {
   "cell_type": "code",
   "execution_count": 22,
   "id": "1c6a3607",
   "metadata": {},
   "outputs": [
    {
     "data": {
      "text/latex": [
       "$\\displaystyle - \\operatorname{atan}{\\left(u \\right)} + \\frac{r_{1} \\operatorname{atan}{\\left(\\frac{R u}{r_{1}} \\right)}}{R}$"
      ],
      "text/plain": [
       "-atan(u) + r_1*atan(R*u/r_1)/R"
      ]
     },
     "execution_count": 22,
     "metadata": {},
     "output_type": "execute_result"
    }
   ],
   "source": [
    "a, b = smp.apart(ff, u).as_ordered_terms()\n",
    "int_res = smp.integrate(a, u) + smp.integrate(b, u)\n",
    "int_res"
   ]
  },
  {
   "cell_type": "code",
   "execution_count": 23,
   "id": "e61ffd92",
   "metadata": {},
   "outputs": [
    {
     "data": {
      "text/latex": [
       "$\\displaystyle c_{2} - \\operatorname{atan}{\\left(\\frac{r{\\left(\\theta \\right)}}{\\sqrt{\\frac{\\left(- R^{2} r_{1}^{2} + R^{2} r^{2}{\\left(\\theta \\right)} + r_{1}^{2} r^{2}{\\left(\\theta \\right)} - r^{4}{\\left(\\theta \\right)}\\right) r^{2}{\\left(\\theta \\right)}}{r_{1}^{2} \\left(R^{4} - 2 R^{2} r^{2}{\\left(\\theta \\right)} + r^{4}{\\left(\\theta \\right)}\\right)}} \\left|{R}\\right|} \\right)} + \\frac{r_{1} \\operatorname{atan}{\\left(\\frac{R r{\\left(\\theta \\right)}}{r_{1} \\sqrt{\\frac{\\left(- R^{2} r_{1}^{2} + R^{2} r^{2}{\\left(\\theta \\right)} + r_{1}^{2} r^{2}{\\left(\\theta \\right)} - r^{4}{\\left(\\theta \\right)}\\right) r^{2}{\\left(\\theta \\right)}}{r_{1}^{2} \\left(R^{4} - 2 R^{2} r^{2}{\\left(\\theta \\right)} + r^{4}{\\left(\\theta \\right)}\\right)}} \\left|{R}\\right|} \\right)}}{R}$"
      ],
      "text/plain": [
       "c_2 - atan(r(\\theta)/(sqrt((-R**2*r_1**2 + R**2*r(\\theta)**2 + r_1**2*r(\\theta)**2 - r(\\theta)**4)*r(\\theta)**2/(r_1**2*(R**4 - 2*R**2*r(\\theta)**2 + r(\\theta)**4)))*Abs(R))) + r_1*atan(R*r(\\theta)/(r_1*sqrt((-R**2*r_1**2 + R**2*r(\\theta)**2 + r_1**2*r(\\theta)**2 - r(\\theta)**4)*r(\\theta)**2/(r_1**2*(R**4 - 2*R**2*r(\\theta)**2 + r(\\theta)**4)))*Abs(R)))/R"
      ]
     },
     "execution_count": 23,
     "metadata": {},
     "output_type": "execute_result"
    }
   ],
   "source": [
    "r0 = smp.Symbol(\"r_0\", real=True)\n",
    "res = int_res.subs({u: u_eq})\n",
    "the_eq = res + c2\n",
    "the_with_r_eq = the_eq\n",
    "the_eq"
   ]
  },
  {
   "cell_type": "code",
   "execution_count": 24,
   "id": "96363019",
   "metadata": {},
   "outputs": [
    {
     "data": {
      "text/latex": [
       "$\\displaystyle \\frac{r{\\left(\\theta \\right)}}{\\sqrt{\\frac{\\left(- R^{2} r_{1}^{2} + R^{2} r^{2}{\\left(\\theta \\right)} + r_{1}^{2} r^{2}{\\left(\\theta \\right)} - r^{4}{\\left(\\theta \\right)}\\right) r^{2}{\\left(\\theta \\right)}}{r_{1}^{2} \\left(R^{4} - 2 R^{2} r^{2}{\\left(\\theta \\right)} + r^{4}{\\left(\\theta \\right)}\\right)}} \\left|{R}\\right|}$"
      ],
      "text/plain": [
       "r(\\theta)/(sqrt((-R**2*r_1**2 + R**2*r(\\theta)**2 + r_1**2*r(\\theta)**2 - r(\\theta)**4)*r(\\theta)**2/(r_1**2*(R**4 - 2*R**2*r(\\theta)**2 + r(\\theta)**4)))*Abs(R))"
      ]
     },
     "execution_count": 24,
     "metadata": {},
     "output_type": "execute_result"
    }
   ],
   "source": [
    "atan_arg = the_eq.as_ordered_terms()[1].args[1].args[0]\n",
    "atan_arg"
   ]
  },
  {
   "cell_type": "code",
   "execution_count": 25,
   "id": "5746379a",
   "metadata": {},
   "outputs": [
    {
     "data": {
      "text/latex": [
       "$\\displaystyle \\frac{r{\\left(\\theta \\right)}}{\\sqrt{\\frac{\\left(- R^{2} r_{1}^{2} + R^{2} r^{2}{\\left(\\theta \\right)} + r_{1}^{2} r^{2}{\\left(\\theta \\right)} - r^{4}{\\left(\\theta \\right)}\\right) r^{2}{\\left(\\theta \\right)}}{r_{1}^{2} \\left(R^{4} - 2 R^{2} r^{2}{\\left(\\theta \\right)} + r^{4}{\\left(\\theta \\right)}\\right)}} \\left|{R}\\right|} = \\tan{\\left(\\phi \\right)}$"
      ],
      "text/plain": [
       "Eq(r(\\theta)/(sqrt((-R**2*r_1**2 + R**2*r(\\theta)**2 + r_1**2*r(\\theta)**2 - r(\\theta)**4)*r(\\theta)**2/(r_1**2*(R**4 - 2*R**2*r(\\theta)**2 + r(\\theta)**4)))*Abs(R)), tan(\\phi))"
      ]
     },
     "execution_count": 25,
     "metadata": {},
     "output_type": "execute_result"
    }
   ],
   "source": [
    "smp.Eq(atan_arg, smp.tan(phi))"
   ]
  },
  {
   "cell_type": "code",
   "execution_count": 26,
   "id": "89a95d8d",
   "metadata": {},
   "outputs": [
    {
     "data": {
      "text/latex": [
       "$\\displaystyle \\sqrt{\\frac{R^{2} r_{1}^{2} \\tan^{2}{\\left(\\phi \\right)}}{R^{2} \\tan^{2}{\\left(\\phi \\right)} + r_{1}^{2}} + \\frac{R^{2} r_{1}^{2}}{R^{2} \\tan^{2}{\\left(\\phi \\right)} + r_{1}^{2}}}$"
      ],
      "text/plain": [
       "sqrt(R**2*r_1**2*tan(\\phi)**2/(R**2*tan(\\phi)**2 + r_1**2) + R**2*r_1**2/(R**2*tan(\\phi)**2 + r_1**2))"
      ]
     },
     "execution_count": 26,
     "metadata": {},
     "output_type": "execute_result"
    }
   ],
   "source": [
    "r_eq = smp.solve(smp.Eq(atan_arg, smp.tan(phi)), r, simplify=False)[1]\n",
    "r_eq"
   ]
  },
  {
   "cell_type": "code",
   "execution_count": 27,
   "id": "e42dbcfc",
   "metadata": {},
   "outputs": [
    {
     "data": {
      "text/latex": [
       "$\\displaystyle c_{2} - \\operatorname{atan}{\\left(\\tan{\\left(\\phi \\right)} \\right)} + \\frac{r_{1} \\operatorname{atan}{\\left(\\frac{R \\tan{\\left(\\phi \\right)}}{r_{1}} \\right)}}{R}$"
      ],
      "text/plain": [
       "c_2 - atan(tan(\\phi)) + r_1*atan(R*tan(\\phi)/r_1)/R"
      ]
     },
     "execution_count": 27,
     "metadata": {},
     "output_type": "execute_result"
    }
   ],
   "source": [
    "the_eq = the_eq.subs({atan_arg: smp.tan(phi)})\n",
    "the_eq"
   ]
  },
  {
   "cell_type": "markdown",
   "id": "fa0ef9c7",
   "metadata": {},
   "source": [
    "# Find $c_2$"
   ]
  },
  {
   "cell_type": "markdown",
   "id": "363da9fd",
   "metadata": {},
   "source": [
    "We have $(r_1, \\theta_1)$ and $(r_2, \\theta_2)$ as initial and final conditions"
   ]
  },
  {
   "cell_type": "code",
   "execution_count": 28,
   "id": "4ade0a78",
   "metadata": {},
   "outputs": [
    {
     "data": {
      "text/latex": [
       "$\\displaystyle \\theta_{1} = c_{2}$"
      ],
      "text/plain": [
       "Eq(\\theta_1, c_2)"
      ]
     },
     "execution_count": 28,
     "metadata": {},
     "output_type": "execute_result"
    }
   ],
   "source": [
    "smp.Eq(the1, the_eq).subs({phi: 0})"
   ]
  },
  {
   "cell_type": "code",
   "execution_count": 29,
   "id": "8674b097",
   "metadata": {},
   "outputs": [
    {
     "data": {
      "text/latex": [
       "$\\displaystyle \\left|{R}\\right|$"
      ],
      "text/plain": [
       "Abs(R)"
      ]
     },
     "execution_count": 29,
     "metadata": {},
     "output_type": "execute_result"
    }
   ],
   "source": [
    "r_eq.subs({phi: 0})"
   ]
  },
  {
   "cell_type": "markdown",
   "id": "d4d1b85d",
   "metadata": {},
   "source": [
    "# Final equations for $\\theta$ and $r$"
   ]
  },
  {
   "cell_type": "code",
   "execution_count": 30,
   "id": "20b65490",
   "metadata": {},
   "outputs": [
    {
     "data": {
      "text/latex": [
       "$\\displaystyle \\frac{\\left|{\\frac{R r_{1}}{\\cos{\\left(\\phi \\right)}}}\\right|}{\\sqrt{R^{2} \\tan^{2}{\\left(\\phi \\right)} + r_{1}^{2}}}$"
      ],
      "text/plain": [
       "Abs(R*r_1/cos(\\phi))/sqrt(R**2*tan(\\phi)**2 + r_1**2)"
      ]
     },
     "execution_count": 30,
     "metadata": {},
     "output_type": "execute_result"
    }
   ],
   "source": [
    "r_eq.simplify()"
   ]
  },
  {
   "cell_type": "code",
   "execution_count": 31,
   "id": "0f9f9d80",
   "metadata": {},
   "outputs": [
    {
     "data": {
      "text/latex": [
       "$\\displaystyle \\theta_{1} - \\operatorname{atan}{\\left(\\tan{\\left(\\phi \\right)} \\right)} + \\frac{r_{1} \\operatorname{atan}{\\left(\\frac{R \\tan{\\left(\\phi \\right)}}{r_{1}} \\right)}}{R}$"
      ],
      "text/plain": [
       "\\theta_1 - atan(tan(\\phi)) + r_1*atan(R*tan(\\phi)/r_1)/R"
      ]
     },
     "execution_count": 31,
     "metadata": {},
     "output_type": "execute_result"
    }
   ],
   "source": [
    "the_eq = the_eq.subs({c2: the1})\n",
    "the_eq"
   ]
  },
  {
   "cell_type": "markdown",
   "id": "d3411da5",
   "metadata": {},
   "source": [
    "# Plotting `(x, y)`"
   ]
  },
  {
   "cell_type": "code",
   "execution_count": 32,
   "id": "4857cbaa",
   "metadata": {},
   "outputs": [],
   "source": [
    "r_f = smp.lambdify((R, r1, phi), r_eq.simplify())\n",
    "\n",
    "the_f = smp.lambdify((R, r1, the1, phi), the_eq)"
   ]
  },
  {
   "cell_type": "code",
   "execution_count": 33,
   "id": "480eaeab",
   "metadata": {},
   "outputs": [],
   "source": [
    "phi_final = np.pi / 2\n",
    "phi_steps = 1000\n",
    "phi = np.linspace(0, phi_final, phi_steps)\n",
    "\n",
    "# G = 6.674e-11\n",
    "R = 1\n",
    "# M = 5.972e+24\n",
    "r1 = R * 0.70\n",
    "the1 = np.pi / 2\n",
    "\n",
    "\n",
    "# Initial Condition 1\n",
    "r_phi = r_f(R, r1, phi)\n",
    "the_phi = the_f(R, r1, the1, phi)"
   ]
  },
  {
   "cell_type": "code",
   "execution_count": 34,
   "id": "2acc9b5b",
   "metadata": {},
   "outputs": [],
   "source": [
    "x_phi = r_phi * np.cos(the_phi) \n",
    "y_phi = r_phi * np.sin(the_phi)\n",
    "cx = R * np.cos(np.linspace(0, 2 * np.pi, 100))\n",
    "cy = R * np.sin(np.linspace(0, 2 * np.pi, 100))"
   ]
  },
  {
   "cell_type": "code",
   "execution_count": 35,
   "id": "e780dc08",
   "metadata": {},
   "outputs": [
    {
     "data": {
      "text/plain": [
       "[<matplotlib.lines.Line2D at 0x73eea6978ce0>]"
      ]
     },
     "execution_count": 35,
     "metadata": {},
     "output_type": "execute_result"
    },
    {
     "data": {
      "image/png": "[encoded data removed]",
      "text/plain": [
       "<Figure size 640x480 with 1 Axes>"
      ]
     },
     "metadata": {},
     "output_type": "display_data"
    }
   ],
   "source": [
    "plt.grid()\n",
    "plt.plot(x_phi, y_phi)\n",
    "plt.plot(cx, cy)"
   ]
  },
  {
   "cell_type": "code",
   "execution_count": null,
   "id": "b3f1fd6e",
   "metadata": {},
   "outputs": [],
   "source": []
  }
 ],
 "metadata": {
  "kernelspec": {
   "display_name": ".venv (3.12.3)",
   "language": "python",
   "name": "python3"
  },
  "language_info": {
   "codemirror_mode": {
    "name": "ipython",
    "version": 3
   },
   "file_extension": ".py",
   "mimetype": "text/x-python",
   "name": "python",
   "nbconvert_exporter": "python",
   "pygments_lexer": "ipython3",
   "version": "3.12.3"
  }
 },
 "nbformat": 4,
 "nbformat_minor": 5
}
